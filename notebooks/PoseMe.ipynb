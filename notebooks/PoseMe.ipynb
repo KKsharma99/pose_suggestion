{
 "cells": [
  {
   "cell_type": "markdown",
   "metadata": {},
   "source": [
    "# PoseMe"
   ]
  },
  {
   "cell_type": "markdown",
   "metadata": {},
   "source": [
    "## Imports"
   ]
  },
  {
   "cell_type": "code",
   "execution_count": 5,
   "metadata": {},
   "outputs": [],
   "source": [
    "import os"
   ]
  },
  {
   "cell_type": "markdown",
   "metadata": {},
   "source": [
    "## Functions"
   ]
  },
  {
   "cell_type": "code",
   "execution_count": 38,
   "metadata": {},
   "outputs": [],
   "source": [
    "def rename_dir_numerically(phot_dir, ext=\".jpg\"):\n",
    "    x = 0\n",
    "    for i in os.listdir(photo_dir):\n",
    "        os.rename(photo_dir + i, photo_dir + str(x) + ext)\n",
    "        x += 1\n",
    "        \n",
    "#sorted_dir_list = [int(i.split('.')[0]) for i in dir_list]\n",
    "# sorted_dir_list.sort()\n",
    "# sorted_dir_list"
   ]
  },
  {
   "cell_type": "markdown",
   "metadata": {},
   "source": [
    "## Workflow"
   ]
  },
  {
   "cell_type": "code",
   "execution_count": null,
   "metadata": {},
   "outputs": [],
   "source": [
    "# photo_dir = \"D:\\\\kunal\\poses\\src\\photos\\\\\"\n",
    "# rename_dir_numerically(photo_dir)"
   ]
  }
 ],
 "metadata": {
  "kernelspec": {
   "display_name": "Python 3",
   "language": "python",
   "name": "python3"
  },
  "language_info": {
   "codemirror_mode": {
    "name": "ipython",
    "version": 3
   },
   "file_extension": ".py",
   "mimetype": "text/x-python",
   "name": "python",
   "nbconvert_exporter": "python",
   "pygments_lexer": "ipython3",
   "version": "3.7.3"
  }
 },
 "nbformat": 4,
 "nbformat_minor": 2
}

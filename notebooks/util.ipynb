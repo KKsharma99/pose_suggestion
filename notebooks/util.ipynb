{
 "cells": [
  {
   "cell_type": "markdown",
   "metadata": {},
   "source": [
    "# PoseMe"
   ]
  },
  {
   "cell_type": "markdown",
   "metadata": {},
   "source": [
    "## Imports"
   ]
  },
  {
   "cell_type": "code",
   "execution_count": 2,
   "metadata": {},
   "outputs": [],
   "source": [
    "import os\n",
    "from PIL import Image, ImageOps\n",
    "import matplotlib.pyplot as plt"
   ]
  },
  {
   "cell_type": "markdown",
   "metadata": {},
   "source": [
    "## Functions"
   ]
  },
  {
   "cell_type": "code",
   "execution_count": 3,
   "metadata": {},
   "outputs": [],
   "source": [
    "def rename_dir_numerically_temp(photo_dir, ext=\".jpg\"):\n",
    "    x = 0\n",
    "    for i in os.listdir(photo_dir):\n",
    "        os.rename(photo_dir + i, photo_dir + \"temp_\" + str(x) + ext)\n",
    "        x += 1"
   ]
  },
  {
   "cell_type": "code",
   "execution_count": 4,
   "metadata": {},
   "outputs": [],
   "source": [
    "def rename_dir_numerically(photo_dir, ext=\".jpg\"):\n",
    "    x = 0\n",
    "    for i in os.listdir(photo_dir):\n",
    "        os.rename(photo_dir + i, photo_dir + str(x) + ext)\n",
    "        x += 1"
   ]
  },
  {
   "cell_type": "code",
   "execution_count": 5,
   "metadata": {},
   "outputs": [],
   "source": [
    "def img_info(photo_dir, bins=15):\n",
    "    imgs = os.listdir(photo_dir)\n",
    "    imgs_format = []\n",
    "    imgs_sizes = []\n",
    "    imgs_mode = []\n",
    "    # Open the image form working directory\n",
    "    for image_name in imgs:\n",
    "        image = Image.open(photo_dir + image_name)\n",
    "        # summarize some details about the image\n",
    "        imgs_format.append(image.format)\n",
    "        imgs_sizes.append(image.size)\n",
    "        imgs_mode.append(image.mode)\n",
    "    # Width and Height Arrays\n",
    "    imgs_heights = [img[0] for img in imgs_sizes]\n",
    "    imgs_widths = [img[1] for img in imgs_sizes]\n",
    "    hw_ratio = [ img[0]/img[1] for img in imgs_sizes]\n",
    "    # Plots\n",
    "    plt.hist(imgs_format)\n",
    "    plt.title(\"Image Type Distribution\")\n",
    "    plt.show()\n",
    "    plt.hist(imgs_heights, bins=bins)\n",
    "    plt.title(\"Image Height Distribution\")\n",
    "    plt.show()\n",
    "    plt.hist(imgs_widths, bins=bins)\n",
    "    plt.title(\"Image Width Distribution\")\n",
    "    plt.show()\n",
    "    plt.hist(hw_ratio, bins=bins)\n",
    "    plt.title(\"Height to Width Distribution\")\n",
    "    plt.show()"
   ]
  },
  {
   "cell_type": "code",
   "execution_count": 6,
   "metadata": {},
   "outputs": [],
   "source": [
    "def resize_imgs(photo_dir, output_dir, size):\n",
    "    desired_size = size\n",
    "    raw_imgs = os.listdir(photo_dir)\n",
    "    for img_name in raw_imgs:\n",
    "        im_path = photo_dir + img_name\n",
    "        im = Image.open(im_path)\n",
    "        old_size = im.size  # old_size[0] is in (width, height) format\n",
    "        ratio = float(desired_size)/max(old_size)\n",
    "        new_size = tuple([int(x*ratio) for x in old_size])\n",
    "        ## use thumbnail() or resize() method to resize the input image\n",
    "        ## thumbnail is a in-place operation\n",
    "        ## im.thumbnail(new_size, Image.ANTIALIAS)\n",
    "        im = im.resize(new_size, Image.ANTIALIAS)\n",
    "        # create a new image and paste the resized on it\n",
    "        new_im = Image.new(\"RGB\", (desired_size, desired_size))\n",
    "        new_im.paste(im, ((desired_size-new_size[0])//2,\n",
    "                        (desired_size-new_size[1])//2))\n",
    "        #new_im.show()\n",
    "        new_im.save(output_dir + img_name)"
   ]
  },
  {
   "cell_type": "markdown",
   "metadata": {},
   "source": [
    "## Workflow"
   ]
  },
  {
   "cell_type": "code",
   "execution_count": 17,
   "metadata": {},
   "outputs": [],
   "source": [
    "photo_dir = \"D:\\\\kunal\\pose_suggestion\\src\\photos\\\\\"\n",
    "rename_dir_numerically_temp(photo_dir)\n",
    "rename_dir_numerically(photo_dir)"
   ]
  },
  {
   "cell_type": "code",
   "execution_count": 6,
   "metadata": {},
   "outputs": [
    {
     "data": {
      "image/png": "[encoded data removed]",
      "text/plain": [
       "<Figure size 432x288 with 1 Axes>"
      ]
     },
     "metadata": {
      "needs_background": "light"
     },
     "output_type": "display_data"
    },
    {
     "data": {
      "image/png": "[encoded data removed]",
      "text/plain": [
       "<Figure size 432x288 with 1 Axes>"
      ]
     },
     "metadata": {
      "needs_background": "light"
     },
     "output_type": "display_data"
    },
    {
     "data": {
      "image/png": "[encoded data removed]",
      "text/plain": [
       "<Figure size 432x288 with 1 Axes>"
      ]
     },
     "metadata": {
      "needs_background": "light"
     },
     "output_type": "display_data"
    },
    {
     "data": {
      "image/png": "[encoded data removed]",
      "text/plain": [
       "<Figure size 432x288 with 1 Axes>"
      ]
     },
     "metadata": {
      "needs_background": "light"
     },
     "output_type": "display_data"
    }
   ],
   "source": [
    "photo_dir = \"D:\\\\kunal\\pose_suggestion\\src\\photos\\\\\"\n",
    "img_info(photo_dir)"
   ]
  },
  {
   "cell_type": "code",
   "execution_count": null,
   "metadata": {},
   "outputs": [],
   "source": []
  },
  {
   "cell_type": "code",
   "execution_count": 11,
   "metadata": {},
   "outputs": [],
   "source": [
    "photo_dir = \"D:\\\\kunal\\pose_suggestion\\src\\photos\\\\\"\n",
    "output_dir = \"../src/photos_resized_100/\"\n",
    "resize_imgs(photo_dir, output_dir, 100)"
   ]
  },
  {
   "cell_type": "code",
   "execution_count": 70,
   "metadata": {},
   "outputs": [],
   "source": []
  },
  {
   "cell_type": "code",
   "execution_count": 7,
   "metadata": {},
   "outputs": [],
   "source": [
    "photo_dir = \"D:\\\\kunal\\pose_suggestion\\src\\photos_background_only\\\\\"\n",
    "output_dir = \"../src/photos_background_only_resized_100/\"\n",
    "resize_imgs(photo_dir, output_dir, 100)"
   ]
  }
 ],
 "metadata": {
  "kernelspec": {
   "display_name": "Python 3",
   "language": "python",
   "name": "python3"
  },
  "language_info": {
   "codemirror_mode": {
    "name": "ipython",
    "version": 3
   },
   "file_extension": ".py",
   "mimetype": "text/x-python",
   "name": "python",
   "nbconvert_exporter": "python",
   "pygments_lexer": "ipython3",
   "version": "3.7.3"
  }
 },
 "nbformat": 4,
 "nbformat_minor": 2
}
